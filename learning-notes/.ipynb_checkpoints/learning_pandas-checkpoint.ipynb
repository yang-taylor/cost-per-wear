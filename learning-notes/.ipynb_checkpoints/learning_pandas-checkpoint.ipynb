{
 "cells": [
  {
   "cell_type": "markdown",
   "id": "e339c76a",
   "metadata": {},
   "source": [
    "# Learning the Pandas Library"
   ]
  },
  {
   "cell_type": "code",
   "execution_count": 1,
   "id": "43ebc4cd",
   "metadata": {},
   "outputs": [
    {
     "data": {
      "text/plain": [
       "'1.4.4'"
      ]
     },
     "execution_count": 1,
     "metadata": {},
     "output_type": "execute_result"
    }
   ],
   "source": [
    "import pandas as pd\n",
    "pd.__version__"
   ]
  },
  {
   "cell_type": "markdown",
   "id": "52f5aa3c",
   "metadata": {},
   "source": [
    "## Series"
   ]
  },
  {
   "cell_type": "code",
   "execution_count": null,
   "id": "4b96a82d",
   "metadata": {},
   "outputs": [],
   "source": [
    "# pandas Series are 1D indexed arrays of data\n",
    "mySeries = pd.Series([0, 1, 2, 4.2, \"hi\"])\n",
    "\n",
    "print(\"mySeries:\", mySeries, end=\"\\n\\n\")\n",
    "\n",
    "print(\"values:\", mySeries.values, end=\"\\n\\n\")\n",
    "\n",
    "print(\"index:\", mySeries.index)\n",
    "print(\"index-start:\", mySeries.index.start, end=\"\\n\\n\")\n",
    "\n",
    "print(\"access index 0:\", mySeries[0], end=\"\\n\\n\")\n",
    "\n",
    "print(\"access range 0-1:\", mySeries[0:2].values, end=\"\\n\\n\")\n",
    "\n",
    "print(\"reverse mySeries:\", mySeries[::-1].values, end=\"\\n\\n\")\n",
    "\n",
    "## we can explicitly list indices, so they can be thought of as a python dictionary\n",
    "mySeries = pd.Series([0, 1, 2, 4.2, \"hi\"], index=[2, 4, 6, 8, 'a'])\n",
    "\n",
    "print(\"explicitly indexed:\", mySeries)\n",
    "\n",
    "print(\"access index 'a':\", mySeries['a'])"
   ]
  },
  {
   "cell_type": "markdown",
   "id": "180c8265",
   "metadata": {},
   "source": [
    "## DataFrames"
   ]
  },
  {
   "cell_type": "code",
   "execution_count": 11,
   "id": "3fb47b83",
   "metadata": {},
   "outputs": [
    {
     "name": "stdout",
     "output_type": "stream",
     "text": [
      "           price  popularity\n",
      "Chocolate    2.4          82\n",
      "Vanilla      2.1          94\n",
      "Coffee       2.6          71\n",
      "Coconut      1.8          57\n",
      "\n",
      "indexes: Index(['Chocolate', 'Vanilla', 'Coffee', 'Coconut'], dtype='object')\n",
      "\n",
      "columns: Index(['price', 'popularity'], dtype='object')\n",
      "\n",
      "prices: Chocolate    2.4\n",
      "Vanilla      2.1\n",
      "Coffee       2.6\n",
      "Coconut      1.8\n",
      "Name: price, dtype: float64\n",
      "\n",
      "popularity: Chocolate    82\n",
      "Vanilla      94\n",
      "Coffee       71\n",
      "Coconut      57\n",
      "Name: popularity, dtype: int64\n",
      "\n"
     ]
    }
   ],
   "source": [
    "# DataFrames are two dimensional arrays, with flexible columns and rows\n",
    "\n",
    "ice_cream_price_dict = {'Chocolate': 2.4, 'Vanilla': 2.1, 'Coffee': 2.6, 'Coconut': 1.8}\n",
    "ice_cream_prices = pd.Series(ice_cream_price_dict)\n",
    "\n",
    "ice_cream_popularity_dict = {'Chocolate': 82, 'Vanilla': 94, 'Coffee': 71, 'Coconut': 57}\n",
    "ice_cream_popularities = pd.Series(ice_cream_popularity_dict)\n",
    "\n",
    "ice_cream = pd.DataFrame({'price': ice_cream_prices, 'popularity': ice_cream_popularities})\n",
    "\n",
    "print(ice_cream, end=\"\\n\\n\")\n",
    "print(\"indexes:\", ice_cream.index, end=\"\\n\\n\")\n",
    "print(\"columns:\", ice_cream.columns, end=\"\\n\\n\")\n",
    "print(\"prices:\", ice_cream['price'], end=\"\\n\\n\")\n",
    "print(\"popularity:\", ice_cream['popularity'], end=\"\\n\\n\")\n",
    "\n",
    "# if keys are missing from a column, then it will be filled in by NaN\n",
    "# DataFrames can be created from:\n",
    "#   - from a single Series object\n",
    "#   - from a list of dicts\n",
    "#   - from a dictionary of Series objects\n",
    "#   - from a two-dimesnional NumPy array\n",
    "#   - from a NumPy structured array"
   ]
  },
  {
   "cell_type": "markdown",
   "id": "810b05cc",
   "metadata": {},
   "source": [
    "## Index"
   ]
  },
  {
   "cell_type": "code",
   "execution_count": 23,
   "id": "3eeef10b",
   "metadata": {},
   "outputs": [
    {
     "name": "stdout",
     "output_type": "stream",
     "text": [
      "Int64Index([1, 2, 3, 5, 8], dtype='int64')\n",
      "index 0: 1\n",
      "size: 5\n",
      "shape: (5,)\n",
      "\n",
      "intersection: Int64Index([1, 8], dtype='int64')\n",
      "union: Int64Index([1, 2, 3, 4, 5, 8], dtype='int64')\n",
      "symmetric difference: Int64Index([2, 3, 5], dtype='int64')\n"
     ]
    }
   ],
   "source": [
    "# pandas Index is an immutable array/ordered set\n",
    "\n",
    "ind = pd.Index([1, 2, 3, 5, 8])\n",
    "print(ind)\n",
    "print(\"index 0:\", ind[0])\n",
    "print(\"size:\", ind.size)\n",
    "print(\"shape:\", ind.shape)\n",
    "\n",
    "print()\n",
    "\n",
    "ind1 = pd.Index([1, 4, 8])\n",
    "print(\"intersection:\", ind.intersection(ind1))\n",
    "print(\"union:\", ind.union(ind1))\n",
    "print(\"symmetric difference:\", ind.difference(ind1))"
   ]
  },
  {
   "cell_type": "markdown",
   "id": "ed5cbd3a",
   "metadata": {},
   "source": [
    "## Combining Data"
   ]
  },
  {
   "cell_type": "code",
   "execution_count": 1,
   "id": "e5a8f932",
   "metadata": {},
   "outputs": [],
   "source": [
    "## use for Series and DataFrames \n",
    "# pd.concat(objs, axis=0, join='outer', join_axes=None, ignore_index=False,\n",
    "#           keys=None, levels=None, names=None, verify_integrity=False,\n",
    "#           copy=True)\n",
    "## it preserves indices, however, even if they may repeat. use verify_integrity, keys, or ignore_index to prevent this\n",
    "\n",
    "## joining:\n",
    "#pd.merge()\n",
    "\n",
    "\n",
    "## aggregates:\n",
    "# count()\tTotal number of items\n",
    "# first(), last()\tFirst and last item\n",
    "# mean(), median()\tMean and median\n",
    "# min(), max()\tMinimum and maximum\n",
    "# std(), var()\tStandard deviation and variance\n",
    "# mad()\tMean absolute deviation\n",
    "# prod()\tProduct of all items\n",
    "# sum()\tSum of all items\n",
    "# df.groupby('key') (split, apply, combine)\n",
    "# aggregate()\n",
    "# apply()\n",
    "# pivot_table()"
   ]
  }
 ],
 "metadata": {
  "kernelspec": {
   "display_name": "Python 3 (ipykernel)",
   "language": "python",
   "name": "python3"
  },
  "language_info": {
   "codemirror_mode": {
    "name": "ipython",
    "version": 3
   },
   "file_extension": ".py",
   "mimetype": "text/x-python",
   "name": "python",
   "nbconvert_exporter": "python",
   "pygments_lexer": "ipython3",
   "version": "3.8.10"
  }
 },
 "nbformat": 4,
 "nbformat_minor": 5
}
