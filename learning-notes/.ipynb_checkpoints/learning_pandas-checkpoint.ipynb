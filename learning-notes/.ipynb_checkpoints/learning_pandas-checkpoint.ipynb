{
 "cells": [
  {
   "cell_type": "markdown",
   "id": "e339c76a",
   "metadata": {},
   "source": [
    "# Learning the Pandas Library"
   ]
  },
  {
   "cell_type": "code",
   "execution_count": 1,
   "id": "43ebc4cd",
   "metadata": {},
   "outputs": [
    {
     "data": {
      "text/plain": [
       "'1.4.4'"
      ]
     },
     "execution_count": 1,
     "metadata": {},
     "output_type": "execute_result"
    }
   ],
   "source": [
    "import pandas as pd\n",
    "pd.__version__"
   ]
  },
  {
   "cell_type": "markdown",
   "id": "52f5aa3c",
   "metadata": {},
   "source": [
    "## Series"
   ]
  },
  {
   "cell_type": "code",
   "execution_count": null,
   "id": "4b96a82d",
   "metadata": {},
   "outputs": [],
   "source": [
    "# pandas Series are 1D indexed arrays of data\n",
    "mySeries = pd.Series([0, 1, 2, 4.2, \"hi\"])\n",
    "\n",
    "print(\"mySeries:\", mySeries, end=\"\\n\\n\")\n",
    "\n",
    "print(\"values:\", mySeries.values, end=\"\\n\\n\")\n",
    "\n",
    "print(\"index:\", mySeries.index)\n",
    "print(\"index-start:\", mySeries.index.start, end=\"\\n\\n\")\n",
    "\n",
    "print(\"access index 0:\", mySeries[0], end=\"\\n\\n\")\n",
    "\n",
    "print(\"access range 0-1:\", mySeries[0:2].values, end=\"\\n\\n\")\n",
    "\n",
    "print(\"reverse mySeries:\", mySeries[::-1].values, end=\"\\n\\n\")\n",
    "\n",
    "## we can explicitly list indices, so they can be thought of as a python dictionary\n",
    "mySeries = pd.Series([0, 1, 2, 4.2, \"hi\"], index=[2, 4, 6, 8, 'a'])\n",
    "\n",
    "print(\"explicitly indexed:\", mySeries)\n",
    "\n",
    "print(\"access index 'a':\", mySeries['a'])"
   ]
  },
  {
   "cell_type": "markdown",
   "id": "180c8265",
   "metadata": {},
   "source": [
    "## DataFrames"
   ]
  },
  {
   "cell_type": "code",
   "execution_count": 11,
   "id": "3fb47b83",
   "metadata": {},
   "outputs": [
    {
     "name": "stdout",
     "output_type": "stream",
     "text": [
      "           price  popularity\n",
      "Chocolate    2.4          82\n",
      "Vanilla      2.1          94\n",
      "Coffee       2.6          71\n",
      "Coconut      1.8          57\n",
      "\n",
      "indexes: Index(['Chocolate', 'Vanilla', 'Coffee', 'Coconut'], dtype='object')\n",
      "\n",
      "columns: Index(['price', 'popularity'], dtype='object')\n",
      "\n",
      "prices: Chocolate    2.4\n",
      "Vanilla      2.1\n",
      "Coffee       2.6\n",
      "Coconut      1.8\n",
      "Name: price, dtype: float64\n",
      "\n",
      "popularity: Chocolate    82\n",
      "Vanilla      94\n",
      "Coffee       71\n",
      "Coconut      57\n",
      "Name: popularity, dtype: int64\n",
      "\n"
     ]
    }
   ],
   "source": [
    "# DataFrames are two dimensional arrays, with flexible columns and rows\n",
    "\n",
    "ice_cream_price_dict = {'Chocolate': 2.4, 'Vanilla': 2.1, 'Coffee': 2.6, 'Coconut': 1.8}\n",
    "ice_cream_prices = pd.Series(ice_cream_price_dict)\n",
    "\n",
    "ice_cream_popularity_dict = {'Chocolate': 82, 'Vanilla': 94, 'Coffee': 71, 'Coconut': 57}\n",
    "ice_cream_popularities = pd.Series(ice_cream_popularity_dict)\n",
    "\n",
    "ice_cream = pd.DataFrame({'price': ice_cream_prices, 'popularity': ice_cream_popularities})\n",
    "\n",
    "print(ice_cream, end=\"\\n\\n\")\n",
    "print(\"indexes:\", ice_cream.index, end=\"\\n\\n\")\n",
    "print(\"columns:\", ice_cream.columns, end=\"\\n\\n\")\n",
    "print(\"prices:\", ice_cream['price'], end=\"\\n\\n\")\n",
    "print(\"popularity:\", ice_cream['popularity'], end=\"\\n\\n\")\n",
    "\n",
    "# if keys are missing from a column, then it will be filled in by NaN\n",
    "# DataFrames can be created from:\n",
    "#   - from a single Series object\n",
    "#   - from a list of dicts\n",
    "#   - from a dictionary of Series objects\n",
    "#   - from a two-dimesnional NumPy array\n",
    "#   - from a NumPy structured array"
   ]
  },
  {
   "cell_type": "markdown",
   "id": "810b05cc",
   "metadata": {},
   "source": [
    "## Index"
   ]
  },
  {
   "cell_type": "code",
   "execution_count": 23,
   "id": "3eeef10b",
   "metadata": {},
   "outputs": [
    {
     "name": "stdout",
     "output_type": "stream",
     "text": [
      "Int64Index([1, 2, 3, 5, 8], dtype='int64')\n",
      "index 0: 1\n",
      "size: 5\n",
      "shape: (5,)\n",
      "\n",
      "intersection: Int64Index([1, 8], dtype='int64')\n",
      "union: Int64Index([1, 2, 3, 4, 5, 8], dtype='int64')\n",
      "symmetric difference: Int64Index([2, 3, 5], dtype='int64')\n"
     ]
    }
   ],
   "source": [
    "# pandas Index is an immutable array/ordered set\n",
    "\n",
    "ind = pd.Index([1, 2, 3, 5, 8])\n",
    "print(ind)\n",
    "print(\"index 0:\", ind[0])\n",
    "print(\"size:\", ind.size)\n",
    "print(\"shape:\", ind.shape)\n",
    "\n",
    "print()\n",
    "\n",
    "ind1 = pd.Index([1, 4, 8])\n",
    "print(\"intersection:\", ind.intersection(ind1))\n",
    "print(\"union:\", ind.union(ind1))\n",
    "print(\"symmetric difference:\", ind.difference(ind1))"
   ]
  },
  {
   "cell_type": "markdown",
   "id": "2d490f37",
   "metadata": {},
   "source": [
    "## Vectorized Operations (String Manipulation)"
   ]
  },
  {
   "cell_type": "code",
   "execution_count": 5,
   "id": "1d520730",
   "metadata": {},
   "outputs": [
    {
     "name": "stdout",
     "output_type": "stream",
     "text": [
      "0    Taylor\n",
      "1     Molly\n",
      "2      None\n",
      "3     Felix\n",
      "4    Maggie\n",
      "5    Meimei\n",
      "dtype: object\n"
     ]
    }
   ],
   "source": [
    "name_list = ['Taylor', 'molly', None, 'fElix', 'Maggie', 'meiMei']\n",
    "\n",
    "names = pd.Series(name_list)\n",
    "names = names.str.capitalize()\n",
    "print(names)\n",
    "\n",
    "## built-in to pandas\n",
    "# len()\tlower()\ttranslate()\tislower()\n",
    "# ljust()\tupper()\tstartswith()\tisupper()\n",
    "# rjust()\tfind()\tendswith()\tisnumeric()\n",
    "# center()\trfind()\tisalnum()\tisdecimal()\n",
    "# zfill()\tindex()\tisalpha()\tsplit()\n",
    "# strip()\trindex()\tisdigit()\trsplit()\n",
    "# rstrip()\tcapitalize()\tisspace()\tpartition()\n",
    "# lstrip()\tswapcase()\tistitle()\trpartition()\n",
    "\n",
    "\n",
    "## use regular expressions:\n",
    "#match()\n",
    "#extract()\n",
    "#findall()\n",
    "#replace()\n",
    "#contains()\n",
    "#count()\n",
    "#split()\n",
    "#rsplit()\n",
    "\n",
    "## misc\n",
    "#get()\n",
    "#slice()\n",
    "#slice_replace()\n",
    "#cat()\n",
    "#repeat()\n",
    "#normalize()\n",
    "#pad()\n",
    "#wrap()\n",
    "#join()\n",
    "#get_dummies()"
   ]
  },
  {
   "cell_type": "markdown",
   "id": "3cb4a347",
   "metadata": {},
   "source": [
    "## Time"
   ]
  },
  {
   "cell_type": "code",
   "execution_count": 15,
   "id": "ad19f1e5",
   "metadata": {},
   "outputs": [
    {
     "name": "stdout",
     "output_type": "stream",
     "text": [
      "2022-10-04 00:00:00\n",
      "True\n",
      "2022\n"
     ]
    }
   ],
   "source": [
    "## native python: not perfect for large arrays\n",
    "from datetime import datetime\n",
    "from dateutil import parser\n",
    "\n",
    "date = datetime(year=2022, month=10, day=4)\n",
    "print(date)\n",
    "print(date == parser.parse(\"October 4th, 2022\"))\n",
    "print(date.strftime('%Y'))"
   ]
  },
  {
   "cell_type": "code",
   "execution_count": 18,
   "id": "c738fc49",
   "metadata": {},
   "outputs": [
    {
     "name": "stdout",
     "output_type": "stream",
     "text": [
      "date: 2022-10-04\n",
      "date, arange: ['2022-10-04' '2022-10-05' '2022-10-06' '2022-10-07' '2022-10-08'\n",
      " '2022-10-09' '2022-10-10' '2022-10-11' '2022-10-12' '2022-10-13'\n",
      " '2022-10-14' '2022-10-15']\n"
     ]
    }
   ],
   "source": [
    "## numpy: not the best for precision (64-bit)\n",
    "import numpy as np\n",
    "date = np.array('2022-10-04', dtype=np.datetime64)\n",
    "print(f'date: {date}')\n",
    "print(f'date, arange: {date + np.arange(12)}')"
   ]
  },
  {
   "cell_type": "code",
   "execution_count": 41,
   "id": "452e5f8e",
   "metadata": {},
   "outputs": [
    {
     "name": "stdout",
     "output_type": "stream",
     "text": [
      "2022-10-04 00:00:00\n",
      "Tuesday\n",
      "DatetimeIndex(['2022-10-04', '2022-10-05', '2022-10-06', '2022-10-07',\n",
      "               '2022-10-08', '2022-10-09', '2022-10-10', '2022-10-11',\n",
      "               '2022-10-12', '2022-10-13', '2022-10-14', '2022-10-15'],\n",
      "              dtype='datetime64[ns]', freq=None)\n",
      "\n",
      "2007-02-03     Molly\n",
      "2004-07-21    Taylor\n",
      "1971-01-13     Felix\n",
      "1974-08-15    Maggie\n",
      "dtype: object\n",
      "2007-02-03    Molly\n",
      "dtype: object\n",
      "PeriodIndex(['2007', '2004', '1971', '1974'], dtype='period[A-DEC]')\n",
      "TimedeltaIndex(['0 days', '-927 days', '-13170 days', '-11860 days'], dtype='timedelta64[ns]', freq=None)\n",
      "Date Range: DatetimeIndex(['2022-05-31', '2022-06-30', '2022-07-31', '2022-08-31'], dtype='datetime64[ns]', freq='M')\n"
     ]
    },
    {
     "ename": "ModuleNotFoundError",
     "evalue": "No module named 'pandas_datareader'",
     "output_type": "error",
     "traceback": [
      "\u001b[0;31m---------------------------------------------------------------------------\u001b[0m",
      "\u001b[0;31mModuleNotFoundError\u001b[0m                       Traceback (most recent call last)",
      "Cell \u001b[0;32mIn [41], line 19\u001b[0m\n\u001b[1;32m     15\u001b[0m \u001b[38;5;28mprint\u001b[39m(index \u001b[38;5;241m-\u001b[39m index[\u001b[38;5;241m0\u001b[39m])   \u001b[38;5;66;03m# TimedeltaIndex from DatetimeIndex\u001b[39;00m\n\u001b[1;32m     16\u001b[0m \u001b[38;5;28mprint\u001b[39m(\u001b[38;5;124mf\u001b[39m\u001b[38;5;124m\"\u001b[39m\u001b[38;5;124mDate Range: \u001b[39m\u001b[38;5;132;01m{\u001b[39;00mpd\u001b[38;5;241m.\u001b[39mdate_range(\u001b[38;5;124m'\u001b[39m\u001b[38;5;124m2022-05-18\u001b[39m\u001b[38;5;124m'\u001b[39m, periods\u001b[38;5;241m=\u001b[39m\u001b[38;5;241m4\u001b[39m, freq\u001b[38;5;241m=\u001b[39m\u001b[38;5;124m'\u001b[39m\u001b[38;5;124mM\u001b[39m\u001b[38;5;124m'\u001b[39m)\u001b[38;5;132;01m}\u001b[39;00m\u001b[38;5;124m\"\u001b[39m)\n\u001b[0;32m---> 19\u001b[0m \u001b[38;5;28;01mfrom\u001b[39;00m \u001b[38;5;21;01mpandas_datareader\u001b[39;00m \u001b[38;5;28;01mimport\u001b[39;00m data\n",
      "\u001b[0;31mModuleNotFoundError\u001b[0m: No module named 'pandas_datareader'"
     ]
    }
   ],
   "source": [
    "## pandas\n",
    "date = pd.to_datetime(\"October 4th, 2022\")\n",
    "print(date)\n",
    "print(date.strftime('%A'))\n",
    "print(date + pd.to_timedelta(np.arange(12), 'D'))\n",
    "\n",
    "print()\n",
    "\n",
    "## index data by timestamp\n",
    "index = pd.DatetimeIndex(['2007-02-03', '2004-07-21', '1971-01-13', '1974-08-15'])\n",
    "birthdays = pd.Series(['Molly', 'Taylor', 'Felix', 'Maggie'], index=index)\n",
    "print(birthdays)\n",
    "print(birthdays['2007'])\n",
    "print(index.to_period('Y'))   # PeriodIndex from DatetimeIndex\n",
    "print(index - index[0])   # TimedeltaIndex from DatetimeIndex\n",
    "print(f\"Date Range: {pd.date_range('2022-05-18', periods=4, freq='M')}\")\n",
    "\n"
   ]
  },
  {
   "cell_type": "markdown",
   "id": "166e4d9f",
   "metadata": {},
   "source": [
    "## Eval()"
   ]
  },
  {
   "cell_type": "code",
   "execution_count": 46,
   "id": "2ba4b67f",
   "metadata": {},
   "outputs": [
    {
     "name": "stdout",
     "output_type": "stream",
     "text": [
      "398 ns ± 33.1 ns per loop (mean ± std. dev. of 7 runs, 1,000,000 loops each)\n",
      "418 µs ± 60.8 µs per loop (mean ± std. dev. of 7 runs, 1,000 loops each)\n"
     ]
    }
   ],
   "source": [
    "## pd.eval('') runs operations much more quickly\n",
    "import math\n",
    "\n",
    "%timeit math.factorial(25)\n",
    "%timeit pd.eval('math.factorial(25)')\n",
    "\n",
    "## df.eval() can do the same thing as pd.eval() in less code"
   ]
  }
 ],
 "metadata": {
  "kernelspec": {
   "display_name": "Python 3 (ipykernel)",
   "language": "python",
   "name": "python3"
  },
  "language_info": {
   "codemirror_mode": {
    "name": "ipython",
    "version": 3
   },
   "file_extension": ".py",
   "mimetype": "text/x-python",
   "name": "python",
   "nbconvert_exporter": "python",
   "pygments_lexer": "ipython3",
   "version": "3.8.10"
  }
 },
 "nbformat": 4,
 "nbformat_minor": 5
}
