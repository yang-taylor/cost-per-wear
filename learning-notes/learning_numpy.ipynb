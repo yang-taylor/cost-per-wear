{
 "cells": [
  {
   "cell_type": "markdown",
   "id": "a2336efe",
   "metadata": {},
   "source": [
    "# Learning the NumPy Library"
   ]
  },
  {
   "cell_type": "code",
   "execution_count": 2,
   "id": "abc36816",
   "metadata": {},
   "outputs": [
    {
     "data": {
      "text/plain": [
       "'1.23.3'"
      ]
     },
     "execution_count": 2,
     "metadata": {},
     "output_type": "execute_result"
    }
   ],
   "source": [
    "import numpy as np\n",
    "np.__version__"
   ]
  },
  {
   "cell_type": "markdown",
   "id": "4bfb64c4",
   "metadata": {},
   "source": [
    "## Arrays"
   ]
  },
  {
   "cell_type": "code",
   "execution_count": 16,
   "id": "6b3919fc",
   "metadata": {},
   "outputs": [
    {
     "name": "stdout",
     "output_type": "stream",
     "text": [
      "[ 2  4  6  8 10]\n",
      "[ 2.          1.41421356 17.         14.9       ]\n",
      "[ 2.          1.41421356 17.         14.9       ]\n",
      "[[1 2 3 4]\n",
      " [2 3 4 5]\n",
      " [3 4 5 6]]\n"
     ]
    }
   ],
   "source": [
    "# integer array\n",
    "print(np.array([2, 4, 6, 8, 10]))\n",
    "\n",
    "# upcast array (to float32)\n",
    "print(np.array([2, np.sqrt(2), 17, 14.9]))\n",
    "\n",
    "# arrays have a fixed type, inferred from values or set explicityly\n",
    "print(np.array([2, np.sqrt(2), 17, 14.9], dtype='float64'))\n",
    "\n",
    "# multidimensional\n",
    "print(np.array([range(i, i + 4) for i in [1, 2, 3]]))"
   ]
  },
  {
   "cell_type": "markdown",
   "id": "853064ce",
   "metadata": {},
   "source": [
    "## Built-in Arrays"
   ]
  },
  {
   "cell_type": "code",
   "execution_count": 38,
   "id": "60babd1f",
   "metadata": {},
   "outputs": [
    {
     "name": "stdout",
     "output_type": "stream",
     "text": [
      "array of 0's, length 10: [0 0 0 0 0 0 0 0 0 0]\n",
      "\n",
      "2x3 array of 1's: [[1. 1. 1.]\n",
      " [1. 1. 1.]]\n",
      "\n",
      "array of values [0, 30), multiples of 3: [ 0  3  6  9 12 15 18 21 24 27]\n",
      "\n",
      "array of four values [0, 2], even spaced: [0.         0.66666667 1.33333333 2.        ]\n",
      "\n",
      "random 3x3 array, values [0, 1): [[0.70388858 0.10022689 0.91948261]\n",
      " [0.7142413  0.99884701 0.1494483 ]\n",
      " [0.86812606 0.16249293 0.61555956]]\n",
      "\n",
      "random 3x3 array of normally distributed values: [[ 0.05564534  0.29823817  1.3263859 ]\n",
      " [-0.69456786 -0.14963454 -0.43515355]\n",
      " [ 1.84926373  0.67229476  0.40746184]]\n",
      "\n",
      "random 3x3 array of integer values [0, 10): [[9 7 7]\n",
      " [5 1 2]\n",
      " [2 8 1]]\n",
      "\n",
      "4x4 identity matrix: [[1. 0. 0. 0.]\n",
      " [0. 1. 0. 0.]\n",
      " [0. 0. 1. 0.]\n",
      " [0. 0. 0. 1.]]\n",
      "\n",
      "array from [0, 10): [0 1 2 3 4 5 6 7 8 9]\n"
     ]
    }
   ],
   "source": [
    "print(\"array of 0's, length 10:\", np.zeros(10, dtype=int), end=\"\\n\\n\")\n",
    "print(\"2x3 array of 1's:\", np.ones((2, 3), dtype=float), end=\"\\n\\n\")\n",
    "print(\"array of values [0, 30), multiples of 3:\", np.arange(0, 30, 3), end=\"\\n\\n\")\n",
    "print(\"array of four values [0, 2], even spaced:\", np.linspace(0, 2, 4), end=\"\\n\\n\")\n",
    "print(\"random 3x3 array, values [0, 1):\", np.random.random((3, 3)), end=\"\\n\\n\")\n",
    "print(\"random 3x3 array of normally distributed values:\", np.random.normal(0, 1, (3, 3)), end=\"\\n\\n\")\n",
    "print(\"random 3x3 array of integer values [0, 10):\", np.random.randint(0, 10, (3,3)), end=\"\\n\\n\")\n",
    "print(\"4x4 identity matrix:\", np.eye(4), end=\"\\n\\n\")\n",
    "print(\"array from [0, 10):\", np.arange(10))"
   ]
  },
  {
   "cell_type": "markdown",
   "id": "9e9d8ac7",
   "metadata": {},
   "source": [
    "## Array Attributes"
   ]
  },
  {
   "cell_type": "code",
   "execution_count": 36,
   "id": "c32ea492",
   "metadata": {},
   "outputs": [
    {
     "name": "stdout",
     "output_type": "stream",
     "text": [
      "access index 0 of x1: 5\n",
      "access last value of x1: 7\n",
      "access [0][3] value of x2: 2\n",
      "access slice [2][3:5] of x2: [8 1]\n",
      "\n",
      "x3 dimension: 3\n",
      "x3 shape: (5, 5, 5)\n",
      "x3 size: 125\n",
      "x3 dtype: int64\n",
      "1000 x 125 = 1000\n"
     ]
    }
   ],
   "source": [
    "np.random.seed(0) # seed for reproducibility\n",
    "\n",
    "x1 = np.random.randint(10, size=5)\n",
    "x2 = np.random.randint(10, size=(5, 5))\n",
    "x3 = np.random.randint(10, size=(5, 5, 5))\n",
    "\n",
    "# slicing is [start:end:increment]\n",
    "print(\"access index 0 of x1:\", x1[0])\n",
    "print(\"access last value of x1:\", x1[-1])\n",
    "print(\"access [0][3] value of x2:\", x2[0, 3])\n",
    "print(\"access slice [2][3:5] of x2:\", x2[2, 3:5])\n",
    "\n",
    "print()\n",
    "\n",
    "print(\"x3 dimension:\", x3.ndim)\n",
    "print(\"x3 shape:\", x3.shape)\n",
    "print(\"x3 size:\", x3.size)\n",
    "print(\"x3 dtype:\", x3.dtype)\n",
    "print(f\"{x3.nbytes} x {x3.size} = {x3.nbytes}\")\n",
    "\n",
    "\n",
    "## TODO\n",
    "# we can get copies of arrays with .copy()\n",
    "# we can reshape arrays with .reshape()\n",
    "# we can concatenate arrays with np.concatenate()\n",
    "# we can stack arrays with np.hstack() and np.vstack()\n",
    "# we can split arrays with np.split(), np.hsplit(), and np.vsplit()"
   ]
  }
 ],
 "metadata": {
  "kernelspec": {
   "display_name": "Python 3 (ipykernel)",
   "language": "python",
   "name": "python3"
  },
  "language_info": {
   "codemirror_mode": {
    "name": "ipython",
    "version": 3
   },
   "file_extension": ".py",
   "mimetype": "text/x-python",
   "name": "python",
   "nbconvert_exporter": "python",
   "pygments_lexer": "ipython3",
   "version": "3.8.10"
  }
 },
 "nbformat": 4,
 "nbformat_minor": 5
}
