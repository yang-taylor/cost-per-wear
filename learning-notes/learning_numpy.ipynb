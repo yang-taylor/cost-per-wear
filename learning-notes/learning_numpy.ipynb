{
 "cells": [
  {
   "cell_type": "markdown",
   "id": "a2336efe",
   "metadata": {},
   "source": [
    "# Learning the NumPy Library"
   ]
  },
  {
   "cell_type": "code",
   "execution_count": 2,
   "id": "abc36816",
   "metadata": {},
   "outputs": [
    {
     "data": {
      "text/plain": [
       "'1.23.3'"
      ]
     },
     "execution_count": 2,
     "metadata": {},
     "output_type": "execute_result"
    }
   ],
   "source": [
    "import numpy as np\n",
    "np.__version__"
   ]
  },
  {
   "cell_type": "markdown",
   "id": "4bfb64c4",
   "metadata": {},
   "source": [
    "## Arrays"
   ]
  },
  {
   "cell_type": "code",
   "execution_count": 16,
   "id": "6b3919fc",
   "metadata": {},
   "outputs": [
    {
     "name": "stdout",
     "output_type": "stream",
     "text": [
      "[ 2  4  6  8 10]\n",
      "[ 2.          1.41421356 17.         14.9       ]\n",
      "[ 2.          1.41421356 17.         14.9       ]\n",
      "[[1 2 3 4]\n",
      " [2 3 4 5]\n",
      " [3 4 5 6]]\n"
     ]
    }
   ],
   "source": [
    "# integer array\n",
    "print(np.array([2, 4, 6, 8, 10]))\n",
    "\n",
    "# upcast array (to float32)\n",
    "print(np.array([2, np.sqrt(2), 17, 14.9]))\n",
    "\n",
    "# arrays have a fixed type, inferred from values or set explicityly\n",
    "print(np.array([2, np.sqrt(2), 17, 14.9], dtype='float64'))\n",
    "\n",
    "# multidimensional\n",
    "print(np.array([range(i, i + 4) for i in [1, 2, 3]]))"
   ]
  },
  {
   "cell_type": "markdown",
   "id": "853064ce",
   "metadata": {},
   "source": [
    "## Built-in Arrays"
   ]
  },
  {
   "cell_type": "code",
   "execution_count": 38,
   "id": "60babd1f",
   "metadata": {},
   "outputs": [
    {
     "name": "stdout",
     "output_type": "stream",
     "text": [
      "array of 0's, length 10: [0 0 0 0 0 0 0 0 0 0]\n",
      "\n",
      "2x3 array of 1's: [[1. 1. 1.]\n",
      " [1. 1. 1.]]\n",
      "\n",
      "array of values [0, 30), multiples of 3: [ 0  3  6  9 12 15 18 21 24 27]\n",
      "\n",
      "array of four values [0, 2], even spaced: [0.         0.66666667 1.33333333 2.        ]\n",
      "\n",
      "random 3x3 array, values [0, 1): [[0.70388858 0.10022689 0.91948261]\n",
      " [0.7142413  0.99884701 0.1494483 ]\n",
      " [0.86812606 0.16249293 0.61555956]]\n",
      "\n",
      "random 3x3 array of normally distributed values: [[ 0.05564534  0.29823817  1.3263859 ]\n",
      " [-0.69456786 -0.14963454 -0.43515355]\n",
      " [ 1.84926373  0.67229476  0.40746184]]\n",
      "\n",
      "random 3x3 array of integer values [0, 10): [[9 7 7]\n",
      " [5 1 2]\n",
      " [2 8 1]]\n",
      "\n",
      "4x4 identity matrix: [[1. 0. 0. 0.]\n",
      " [0. 1. 0. 0.]\n",
      " [0. 0. 1. 0.]\n",
      " [0. 0. 0. 1.]]\n",
      "\n",
      "array from [0, 10): [0 1 2 3 4 5 6 7 8 9]\n"
     ]
    }
   ],
   "source": [
    "print(\"array of 0's, length 10:\", np.zeros(10, dtype=int), end=\"\\n\\n\")\n",
    "print(\"2x3 array of 1's:\", np.ones((2, 3), dtype=float), end=\"\\n\\n\")\n",
    "print(\"array of values [0, 30), multiples of 3:\", np.arange(0, 30, 3), end=\"\\n\\n\")\n",
    "print(\"array of four values [0, 2], even spaced:\", np.linspace(0, 2, 4), end=\"\\n\\n\")\n",
    "print(\"random 3x3 array, values [0, 1):\", np.random.random((3, 3)), end=\"\\n\\n\")\n",
    "print(\"random 3x3 array of normally distributed values:\", np.random.normal(0, 1, (3, 3)), end=\"\\n\\n\")\n",
    "print(\"random 3x3 array of integer values [0, 10):\", np.random.randint(0, 10, (3,3)), end=\"\\n\\n\")\n",
    "print(\"4x4 identity matrix:\", np.eye(4), end=\"\\n\\n\")\n",
    "print(\"array from [0, 10):\", np.arange(10))"
   ]
  },
  {
   "cell_type": "markdown",
   "id": "9e9d8ac7",
   "metadata": {},
   "source": [
    "## Array Attributes"
   ]
  },
  {
   "cell_type": "code",
   "execution_count": 36,
   "id": "c32ea492",
   "metadata": {},
   "outputs": [
    {
     "name": "stdout",
     "output_type": "stream",
     "text": [
      "access index 0 of x1: 5\n",
      "access last value of x1: 7\n",
      "access [0][3] value of x2: 2\n",
      "access slice [2][3:5] of x2: [8 1]\n",
      "\n",
      "x3 dimension: 3\n",
      "x3 shape: (5, 5, 5)\n",
      "x3 size: 125\n",
      "x3 dtype: int64\n",
      "1000 x 125 = 1000\n"
     ]
    }
   ],
   "source": [
    "np.random.seed(0) # seed for reproducibility\n",
    "\n",
    "x1 = np.random.randint(10, size=5)\n",
    "x2 = np.random.randint(10, size=(5, 5))\n",
    "x3 = np.random.randint(10, size=(5, 5, 5))\n",
    "\n",
    "# slicing is [start:end:increment]\n",
    "print(\"access index 0 of x1:\", x1[0])\n",
    "print(\"access last value of x1:\", x1[-1])\n",
    "print(\"access [0][3] value of x2:\", x2[0, 3])\n",
    "print(\"access slice [2][3:5] of x2:\", x2[2, 3:5])\n",
    "\n",
    "print()\n",
    "\n",
    "print(\"x3 dimension:\", x3.ndim)\n",
    "print(\"x3 shape:\", x3.shape)\n",
    "print(\"x3 size:\", x3.size)\n",
    "print(\"x3 dtype:\", x3.dtype)\n",
    "print(f\"{x3.nbytes} x {x3.size} = {x3.nbytes}\")\n",
    "\n",
    "\n",
    "## TODO\n",
    "# we can get copies of arrays with .copy()\n",
    "# we can reshape arrays with .reshape()\n",
    "# we can concatenate arrays with np.concatenate()\n",
    "# we can stack arrays with np.hstack() and np.vstack()\n",
    "# we can split arrays with np.split(), np.hsplit(), and np.vsplit()"
   ]
  },
  {
   "cell_type": "markdown",
   "id": "f80d117c",
   "metadata": {},
   "source": [
    "## UFuncs (Universal Functions)"
   ]
  },
  {
   "cell_type": "code",
   "execution_count": 34,
   "id": "7bafe42d",
   "metadata": {},
   "outputs": [
    {
     "name": "stdout",
     "output_type": "stream",
     "text": [
      "add: [100  91  82  73]\n",
      "subtract: [100  89  78  67]\n",
      "negative: [-100  -90  -80  -70]\n",
      "multiply: [  0  90 160 210]\n",
      "divide: [0.         0.01111111 0.025      0.04285714]\n",
      "floor division: [0 0 0 0]\n",
      "exponent: [     1     90   6400 343000]\n",
      "mod: [0 1 2 3]\n",
      "absolute value: [0 1 2 3]\n",
      "multiplication, reduced: 0\n",
      "addition, accumulated: [100 190 270 340]\n",
      "x < y: [ True  True  True  True]\n",
      "x >= y: [False False False False]\n",
      "x != y: [ True  True  True  True]\n",
      "x * 2 == y / 100: [False False False False]\n",
      "how many x < y: 4\n",
      "values in y, >= 100: [100]\n"
     ]
    }
   ],
   "source": [
    "## NumPy implements ufuncs, which are a faster, vectorized verson of standard Python operations\n",
    "\n",
    "x = np.array([0, 1, 2, 3])\n",
    "y = np.array([100, 90, 80, 70])\n",
    "\n",
    "print(\"add:\", x + y)   # same thing as np.add(x, y)\n",
    "print(\"subtract:\", y - x)   # same thing as np.subtract(x, y)\n",
    "print(\"negative:\", -y)   # unary operation: same thing as np.negative(y)\n",
    "print(\"multiply:\", x * y)   # same thing as np.multiply(x, y)\n",
    "print(\"divide:\", x / y)   # same thing as np.divide(x, y)\n",
    "print(\"floor division:\", x // y)   # same thing as np.floor_divide(x, y)\n",
    "print(\"exponent:\", y ** x)   # same thing as np.power(y, x). related: np.exp(x), np.exp2(x)\n",
    "print(\"mod:\", x % y)   # same thing as np.mod(x, y)\n",
    "print(\"absolute value:\", abs(-x))   # same thing as np.abs(-x) or np.absolute(-x)\n",
    "\n",
    "## NumPy also has functions for np.sin(), np.cos(), np.tan()\n",
    "##     also np.arcsin(), np.arccos(), np.arctan()\n",
    "## NumPy also has functions for logs: np.log(x), np.log2(x), np.log10(x))\n",
    "\n",
    "print(\"multiplication, reduced:\", np.multiply.reduce(x))   # multiplies all elements of x together, until it is one value\n",
    "print(\"addition, accumulated:\", np.add.accumulate(y))   # adds all elements together, but holds onto previous values\n",
    "\n",
    "# we can also use boolean operations\n",
    "print(\"x < y:\", x < y)   # np.less(), np.less_equal()\n",
    "print(\"x >= y:\", x >= y)   # np.greater_equal(), np.greater\n",
    "print(\"x != y:\", x != y)   # np.not_equal()\n",
    "print(\"x * 2 == y / 100:\", (x * 2) == (y / 100))   #np.equal()\n",
    "\n",
    "# counting boolean arrays\n",
    "print(\"how many x < y:\", np.sum(x < y))   # same as np.count_nonzero(x<y)\n",
    "\n",
    "## more operator ufuncs\n",
    "# &, np.bitwise_and()\n",
    "# ^, np.bitwise_xor()\n",
    "# ~, np.bitwise_not()\n",
    "# |, np.bitwise_or\n",
    "\n",
    "## masking can also be helpful\n",
    "print(\"values in y, >= 100:\", y[y>=100])"
   ]
  },
  {
   "cell_type": "code",
   "execution_count": null,
   "id": "6628c5ef",
   "metadata": {},
   "outputs": [],
   "source": [
    "## Sometimes, NP operations are not aliased!\n",
    "# np.sum() is not the same as sum()\n",
    "# np.max() is not the same as max()\n",
    "# np.min() is not the same as min()\n",
    "## these operations can be done on the object, for example object.min() versus np.min(object)\n",
    "\n",
    "## for multi-dimensional arrays, we can specify columns with axis=[column number]\n",
    "\n",
    "## function --> ## NaN safe version --> definition\n",
    "# np.sum\tnp.nansum\tCompute sum of elements\n",
    "# np.prod\tnp.nanprod\tCompute product of elements\n",
    "# np.mean\tnp.nanmean\tCompute mean of elements\n",
    "# np.std\tnp.nanstd\tCompute standard deviation\n",
    "# np.var\tnp.nanvar\tCompute variance\n",
    "# np.min\tnp.nanmin\tFind minimum value\n",
    "# np.max\tnp.nanmax\tFind maximum value\n",
    "# np.argmin\tnp.nanargmin\tFind index of minimum value\n",
    "# np.argmax\tnp.nanargmax\tFind index of maximum value\n",
    "# np.median\tnp.nanmedian\tCompute median of elements\n",
    "# np.percentile\tnp.nanpercentile\tCompute rank-based statistics of elements\n",
    "# np.any\tN/A\tEvaluate whether any elements are true\n",
    "# np.all\tN/A\tEvaluate whether all elements are true"
   ]
  },
  {
   "cell_type": "markdown",
   "id": "096d8fdd",
   "metadata": {},
   "source": [
    "## Broadcasting"
   ]
  },
  {
   "cell_type": "code",
   "execution_count": 24,
   "id": "a9a3f30d",
   "metadata": {},
   "outputs": [
    {
     "name": "stdout",
     "output_type": "stream",
     "text": [
      "a: [1. 1. 1.]\n",
      "b: [[1.]\n",
      " [1.]\n",
      " [1.]]\n",
      "a+b: [[2. 2. 2.]\n",
      " [2. 2. 2.]\n",
      " [2. 2. 2.]]\n"
     ]
    }
   ],
   "source": [
    "## broadcasting changes the shape of data to fit certain operations\n",
    "\n",
    "## for example:\n",
    "a = np.ones(3)\n",
    "b = np.ones(3)[:, np.newaxis]\n",
    "\n",
    "print(\"a:\", a)\n",
    "print(\"b:\", b)\n",
    "print(\"a+b:\", a + b)\n",
    "\n",
    "## rules:\n",
    "# Rule 1: If the two arrays differ in their number of dimensions,\n",
    "#         the shape of the one with fewer dimensions is padded with ones on its leading (left) side.\n",
    "# Rule 2: If the shape of the two arrays does not match in any dimension,\n",
    "#         the array with shape equal to 1 in that dimension is stretched to match the other shape.\n",
    "# Rule 3: If in any dimension the sizes disagree and neither is equal to 1, an error is raised."
   ]
  },
  {
   "cell_type": "markdown",
   "id": "9469f575",
   "metadata": {},
   "source": [
    "## Fancy Indexing"
   ]
  },
  {
   "cell_type": "code",
   "execution_count": 39,
   "id": "5e17c157",
   "metadata": {},
   "outputs": [
    {
     "name": "stdout",
     "output_type": "stream",
     "text": [
      "regular indexing: 17 23\n",
      "fancy indexing: [17 23]\n",
      "fancy indexing, modification: [17 23 23]\n"
     ]
    }
   ],
   "source": [
    "a = np.array([17, 21, 23])\n",
    "print(\"regular indexing:\", a[0], a[2])\n",
    "print(\"fancy indexing:\", a[[0, 2]])\n",
    "a[[1, 2]] = 23\n",
    "print(\"fancy indexing, modification:\", a)"
   ]
  },
  {
   "cell_type": "markdown",
   "id": "bfc93ced",
   "metadata": {},
   "source": [
    "## Sorting"
   ]
  },
  {
   "cell_type": "code",
   "execution_count": 44,
   "id": "7fd52519",
   "metadata": {},
   "outputs": [
    {
     "name": "stdout",
     "output_type": "stream",
     "text": [
      "quicksort x: [ 17  23  57 400]\n",
      "indices of sorted: [1 0 3 2]\n",
      "partitioning sort: [ 17  23 400  57]\n"
     ]
    }
   ],
   "source": [
    "## NP has built-in functions for sorting\n",
    "# np.sort() has NlogN time efficiency (quicksort)\n",
    "\n",
    "x = np.array([23, 17, 400, 57])\n",
    "print('quicksort x:', np.sort(x))   # to sort in place: x.sort()\n",
    "print('indices of sorted:', np.argsort(x))\n",
    "# np.sort() can also be sued to sort each column of a n-dimensional array\n",
    "\n",
    "print('partitioning sort:', np.partition(x, 1))   # only values to the left of the partition are sorted"
   ]
  },
  {
   "cell_type": "markdown",
   "id": "ad6a2735",
   "metadata": {},
   "source": [
    "## Structured Arrays"
   ]
  },
  {
   "cell_type": "code",
   "execution_count": 49,
   "id": "d18d2618",
   "metadata": {},
   "outputs": [
    {
     "data": {
      "text/plain": [
       "dtype([('name', 'S10'), ('major', 'S10'), ('year', '<i4')])"
      ]
     },
     "execution_count": 49,
     "metadata": {},
     "output_type": "execute_result"
    }
   ],
   "source": [
    "## a structured array is a multidimensional array that is composed of datatypes, organized as fields\n",
    "\n",
    "np.dtype([('name', 'S10'), ('major', 'S10'), ('year', 'i4')])"
   ]
  }
 ],
 "metadata": {
  "kernelspec": {
   "display_name": "Python 3 (ipykernel)",
   "language": "python",
   "name": "python3"
  },
  "language_info": {
   "codemirror_mode": {
    "name": "ipython",
    "version": 3
   },
   "file_extension": ".py",
   "mimetype": "text/x-python",
   "name": "python",
   "nbconvert_exporter": "python",
   "pygments_lexer": "ipython3",
   "version": "3.8.10"
  }
 },
 "nbformat": 4,
 "nbformat_minor": 5
}
